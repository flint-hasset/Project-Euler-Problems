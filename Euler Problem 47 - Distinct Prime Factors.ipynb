{
 "cells": [
  {
   "cell_type": "markdown",
   "metadata": {},
   "source": [
    "#### 47. The first two consecutive numbers to have two distinct prime factors are:\n",
    "\n",
    "14 = 2 × 7\n",
    "15 = 3 × 5\n",
    "\n",
    "The first three consecutive numbers to have three distinct prime factors are:\n",
    "\n",
    "644 = 2² × 7 × 23\n",
    "645 = 3 × 5 × 43\n",
    "646 = 2 × 17 × 19.\n",
    "\n",
    "Find the first four consecutive integers to have four distinct prime factors each. What is the first of these numbers?"
   ]
  },
  {
   "cell_type": "code",
   "execution_count": 109,
   "metadata": {},
   "outputs": [
    {
     "name": "stdout",
     "output_type": "stream",
     "text": [
      "134043\n",
      " "
     ]
    }
   ],
   "source": [
    "%%prun\n",
    "# Runs in 58.8s (a bit long). All this time is spent on factor() calls (39321 total calls).\n",
    "# possibly faster to avoid creating the intermediate list and simply generate a blank set?\n",
    "\n",
    "#Define factor function to generate unique set of factors, and then count total number. \n",
    "def factor(n):\n",
    "    t_list=[]\n",
    "    p = 2\n",
    "    while True:\n",
    "        if n==1:\n",
    "            break\n",
    "        p = 2\n",
    "        while True:\n",
    "            if n%p == 0:\n",
    "                break\n",
    "            p = p + 1\n",
    "        t_list.extend([p])\n",
    "        n = n/p\n",
    "    return len(set(t_list))\n",
    "\n",
    "# Checks whether 4 in a row have 4 factors. \n",
    "# 0 is used as the return for when the answer is found. \n",
    "# The other returns allow the function to jump forward and reduce the factor calculations performed. \n",
    "    # Eg. If we know that the n+3 term does not have 4 factors, we can start our next test at n+4. \n",
    "def check_four(n):\n",
    "    if factor(n+3) != 4:\n",
    "        return 4\n",
    "    elif factor(n+2) != 4:\n",
    "        return 3\n",
    "    elif factor(n+1) != 4:\n",
    "        return 2\n",
    "    elif factor(n) != 4:\n",
    "        return 1\n",
    "    else: \n",
    "        return 0\n",
    "\n",
    "found = 1\n",
    "n = 100\n",
    "while found != 0:\n",
    "    found = check_four(n)\n",
    "    n = n + found\n",
    "print(n)"
   ]
  },
  {
   "cell_type": "code",
   "execution_count": 104,
   "metadata": {},
   "outputs": [
    {
     "name": "stdout",
     "output_type": "stream",
     "text": [
      "2 4 1 2\n",
      "4 4 4 4\n"
     ]
    }
   ],
   "source": [
    "#type(check_four(n)), type(found)\n",
    "print(factor(209),factor(210),factor(211),factor(212))\n",
    "print(check_four(209),check_four(210),check_four(211),check_four(212))"
   ]
  },
  {
   "cell_type": "code",
   "execution_count": 101,
   "metadata": {},
   "outputs": [
    {
     "name": "stdout",
     "output_type": "stream",
     "text": [
      "2 4 2 4 4 4 1\n"
     ]
    }
   ],
   "source": [
    "print(factor(134042),factor(134043),factor(134041),factor(134044),factor(134045),factor(134046),factor(134047))\n"
   ]
  },
  {
   "cell_type": "code",
   "execution_count": 105,
   "metadata": {},
   "outputs": [
    {
     "name": "stdout",
     "output_type": "stream",
     "text": [
      "134043 0\n"
     ]
    }
   ],
   "source": [
    "print(n,p)"
   ]
  },
  {
   "cell_type": "code",
   "execution_count": 108,
   "metadata": {},
   "outputs": [
    {
     "data": {
      "text/plain": [
       "0"
      ]
     },
     "execution_count": 108,
     "metadata": {},
     "output_type": "execute_result"
    }
   ],
   "source": [
    "check_four(134043)"
   ]
  },
  {
   "cell_type": "code",
   "execution_count": null,
   "metadata": {},
   "outputs": [],
   "source": []
  }
 ],
 "metadata": {
  "kernelspec": {
   "display_name": "Python 3",
   "language": "python",
   "name": "python3"
  },
  "language_info": {
   "codemirror_mode": {
    "name": "ipython",
    "version": 3
   },
   "file_extension": ".py",
   "mimetype": "text/x-python",
   "name": "python",
   "nbconvert_exporter": "python",
   "pygments_lexer": "ipython3",
   "version": "3.6.5"
  }
 },
 "nbformat": 4,
 "nbformat_minor": 2
}
