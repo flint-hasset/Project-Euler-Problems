{
 "cells": [
  {
   "cell_type": "markdown",
   "metadata": {},
   "source": [
    "#### 38. Take the number 192 and multiply it by each of 1, 2, and 3:\n",
    "\n",
    "192 × 1 = 192\n",
    "192 × 2 = 384\n",
    "192 × 3 = 576\n",
    "By concatenating each product we get the 1 to 9 pandigital, 192384576. We will call 192384576 the concatenated product of 192 and (1,2,3)\n",
    "\n",
    "The same can be achieved by starting with 9 and multiplying by 1, 2, 3, 4, and 5, giving the pandigital, 918273645, which is the concatenated product of 9 and (1,2,3,4,5).\n",
    "\n",
    "What is the largest 1 to 9 pandigital 9-digit number that can be formed as the concatenated product of an integer with (1,2, ... , n) where n > 1?"
   ]
  },
  {
   "cell_type": "code",
   "execution_count": 10,
   "metadata": {},
   "outputs": [],
   "source": [
    "# Answer can be using multiplicand of 2-4 digits. \n",
    "# Answer MUST start with 9. \n",
    "# Loop through 9*, 9**, and 9*** combination multiplications and then check for pandigital. \n",
    "    # OR create pandigital list starting with 9, then split and check. \n",
    "    # Depends on whether the combination-string or multiplication checks take longer. "
   ]
  },
  {
   "cell_type": "code",
   "execution_count": 28,
   "metadata": {},
   "outputs": [
    {
     "name": "stdout",
     "output_type": "stream",
     "text": [
      "926718534\n",
      "927318546\n",
      "932718654\n",
      " "
     ]
    }
   ],
   "source": [
    "%%prun\n",
    "#runs in 0.6s\n",
    "\n",
    "import itertools as it\n",
    "\n",
    "p_string = '12345678'\n",
    "p_list = [''.join(p) for p in it.permutations(p_string)]\n",
    "\n",
    "for mult in range (0,877):\n",
    "    check_string = '9'+str(mult)\n",
    "    m = int(check_string)\n",
    "    n=2\n",
    "    while len(check_string)<8:\n",
    "        check_string = check_string + str(m*n)\n",
    "        n = n+1\n",
    "    if check_string[1:] in p_list:\n",
    "        print (check_string)"
   ]
  },
  {
   "cell_type": "code",
   "execution_count": 20,
   "metadata": {},
   "outputs": [
    {
     "data": {
      "text/plain": [
       "'8196294392'"
      ]
     },
     "execution_count": 20,
     "metadata": {},
     "output_type": "execute_result"
    }
   ],
   "source": [
    "check_string"
   ]
  },
  {
   "cell_type": "code",
   "execution_count": 31,
   "metadata": {},
   "outputs": [
    {
     "name": "stdout",
     "output_type": "stream",
     "text": [
      " "
     ]
    }
   ],
   "source": [
    "%%prun\n",
    "## sinclam2 code; 44s\n",
    "\n",
    "\n",
    "import numpy as np\n",
    "\n",
    "dict_candidates = {1:np.array([9])}\n",
    "\n",
    "for l in range(2, 9):\n",
    "    N = l-1\n",
    "    array_digits = np.arange(10**(N-1), 10**N)\n",
    "    array_candidates = 9*(10**N)+array_digits\n",
    "    list_candidates = [x for x in array_candidates if (list(str(x)).count('0')==0)&(len(set(list(str(x))))==l)]\n",
    "    dict_candidates[l] = list_candidates\n",
    "\n",
    "def concatenated_product(integer, n):\n",
    "    array = integer*np.arange(1,n+1)\n",
    "    string = ''.join([str(x) for x in array])\n",
    "    return int(string)\n",
    "\n",
    "list_check = [str(i) for i in range(1,10)]\n",
    "\n",
    "def check_pandigital(x):\n",
    "    list_x = list(str(x))\n",
    "    if len(list_x)==9:\n",
    "        for i in list_check:\n",
    "            if (list_x.count(i)!=1):\n",
    "                return False\n",
    "    else:\n",
    "        return False\n",
    "    return True\n",
    "\n",
    "list_results = []\n",
    "\n",
    "for l in dict_candidates.keys():\n",
    "    n_bound = int(9/l + 1)\n",
    "    for n in range(1,n_bound+1):\n",
    "        for integer in dict_candidates[l]:\n",
    "            concat = concatenated_product(integer, n)\n",
    "            if len(str(concat))==9:\n",
    "                if check_pandigital(concat):\n",
    "                    list_results.append(concat)\n",
    "\n",
    "max(list_results)\n",
    "\n"
   ]
  },
  {
   "cell_type": "code",
   "execution_count": null,
   "metadata": {},
   "outputs": [],
   "source": []
  }
 ],
 "metadata": {
  "kernelspec": {
   "display_name": "Python 3",
   "language": "python",
   "name": "python3"
  },
  "language_info": {
   "codemirror_mode": {
    "name": "ipython",
    "version": 3
   },
   "file_extension": ".py",
   "mimetype": "text/x-python",
   "name": "python",
   "nbconvert_exporter": "python",
   "pygments_lexer": "ipython3",
   "version": "3.6.5"
  }
 },
 "nbformat": 4,
 "nbformat_minor": 2
}
