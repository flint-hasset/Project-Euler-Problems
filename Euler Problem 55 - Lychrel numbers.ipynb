{
 "cells": [
  {
   "cell_type": "markdown",
   "metadata": {},
   "source": [
    "#### 55. If we take 47, reverse and add, 47 + 74 = 121, which is palindromic.\n",
    "\n",
    "Not all numbers produce palindromes so quickly. For example,\n",
    "\n",
    "349 + 943 = 1292,\n",
    "1292 + 2921 = 4213\n",
    "4213 + 3124 = 7337\n",
    "\n",
    "That is, 349 took three iterations to arrive at a palindrome.\n",
    "\n",
    "Although no one has proved it yet, it is thought that some numbers, like 196, never produce a palindrome. A number that never forms a palindrome through the reverse and add process is called a Lychrel number. Due to the theoretical nature of these numbers, and for the purpose of this problem, we shall assume that a number is Lychrel until proven otherwise. In addition you are given that for every number below ten-thousand, it will either (i) become a palindrome in less than fifty iterations, or, (ii) no one, with all the computing power that exists, has managed so far to map it to a palindrome. In fact, 10677 is the first number to be shown to require over fifty iterations before producing a palindrome: 4668731596684224866951378664 (53 iterations, 28-digits).\n",
    "\n",
    "Surprisingly, there are palindromic numbers that are themselves Lychrel numbers; the first example is 4994.\n",
    "\n",
    "How many Lychrel numbers are there below ten-thousand?\n",
    "\n",
    "NOTE: Wording was modified slightly on 24 April 2007 to emphasise the theoretical nature of Lychrel numbers."
   ]
  },
  {
   "cell_type": "code",
   "execution_count": 24,
   "metadata": {},
   "outputs": [
    {
     "name": "stdout",
     "output_type": "stream",
     "text": [
      "249\n"
     ]
    }
   ],
   "source": [
    "def check_palindrome(n):\n",
    "    str_n=str(n)\n",
    "    size=len(str_n)\n",
    "    not_p = 0\n",
    "    if size%2 ==0:\n",
    "        for i in range(0,int(size/2)):\n",
    "            if str_n[size-1-i] != str_n[i]:\n",
    "                not_p = 1 + not_p\n",
    "    else:\n",
    "        for i in range(0,int((size-1)/2)):\n",
    "            if str_n[size-1-i] != str_n[i]:\n",
    "                not_p = 1 + not_p\n",
    "    if not_p == 0:\n",
    "        return 1\n",
    "    else: \n",
    "        return 0\n",
    "\n",
    "def is_lychrel(n):   # Checks for only 50 iterations. \n",
    "    trials = 0\n",
    "    temp_n = n\n",
    "    ever_pal\n",
    "    while trials < 50:\n",
    "        temp_n += int(str(temp_n)[::-1])\n",
    "        if check_palindrome(temp_n) == 1: \n",
    "            return 0\n",
    "        trials = trials + 1\n",
    "    return 1\n",
    "\n",
    "lychrel_count = 0\n",
    "for x in range (10,10001):\n",
    "    lychrel_count += is_lychrel(x)\n",
    "\n",
    "print(lychrel_count)"
   ]
  },
  {
   "cell_type": "code",
   "execution_count": null,
   "metadata": {},
   "outputs": [],
   "source": []
  }
 ],
 "metadata": {
  "kernelspec": {
   "display_name": "Python 3",
   "language": "python",
   "name": "python3"
  },
  "language_info": {
   "codemirror_mode": {
    "name": "ipython",
    "version": 3
   },
   "file_extension": ".py",
   "mimetype": "text/x-python",
   "name": "python",
   "nbconvert_exporter": "python",
   "pygments_lexer": "ipython3",
   "version": "3.6.5"
  }
 },
 "nbformat": 4,
 "nbformat_minor": 2
}
