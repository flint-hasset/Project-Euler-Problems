{
 "cells": [
  {
   "cell_type": "markdown",
   "metadata": {},
   "source": [
    "#### 33. The fraction 49/98 is a curious fraction, as an inexperienced mathematician in attempting to simplify it may incorrectly believe that 49/98 = 4/8, which is correct, is obtained by cancelling the 9s.\n",
    "\n",
    "We shall consider fractions like, 30/50 = 3/5, to be trivial examples.\n",
    "\n",
    "There are exactly four non-trivial examples of this type of fraction, less than one in value, and containing two digits in the numerator and denominator.\n",
    "\n",
    "If the product of these four fractions is given in its lowest common terms, find the value of the denominator."
   ]
  },
  {
   "cell_type": "code",
   "execution_count": 37,
   "metadata": {},
   "outputs": [
    {
     "name": "stdout",
     "output_type": "stream",
     "text": [
      "16 64\n",
      "26 65\n",
      "19 95\n",
      "49 98\n"
     ]
    }
   ],
   "source": [
    "# Problem range from 11-99, any 0s excluded. \n",
    "# Find only fraction pairs where digit is shared.\n",
    "\n",
    "digits = range(1,10)\n",
    "test_list=[]\n",
    "for x in digits:\n",
    "    for y in digits:\n",
    "        #print(str(str(digits[x-1]))+str(digits[y-1]))\n",
    "        test_list.extend([int(str(str(digits[x-1]))+str(digits[y-1]))])\n",
    "        \n",
    "for dx in range(1,len(test_list)):\n",
    "    for nx in range(0,dx):\n",
    "        numer = test_list[nx]\n",
    "        denom =  test_list[dx]\n",
    "        frac_result = numer / denom\n",
    "        nd1 = int(str(numer)[0])\n",
    "        nd2 = int(str(numer)[1])\n",
    "        dd1 = int(str(denom)[0])\n",
    "        dd2 = int(str(denom)[1])\n",
    "        if nd1 == dd1:\n",
    "            comp_f = nd1/dd2\n",
    "        elif nd2 == dd1:\n",
    "            comp_f = nd1/dd2\n",
    "        elif nd1 == dd2:\n",
    "            comp_f = nd2/dd1\n",
    "        elif nd1 == dd1:\n",
    "            comp_f = nd2/dd2\n",
    "        else: \n",
    "            comp_f = 0 \n",
    "        if comp_f == frac_result:\n",
    "            print(numer,denom)"
   ]
  },
  {
   "cell_type": "code",
   "execution_count": 38,
   "metadata": {},
   "outputs": [
    {
     "name": "stdout",
     "output_type": "stream",
     "text": [
      "387296 38729600\n"
     ]
    }
   ],
   "source": [
    "numer = 16*26*19*49\n",
    "denom = 64*65*95*98\n",
    "print(numer,denom)\n",
    "# 100! Who knew.. "
   ]
  },
  {
   "cell_type": "code",
   "execution_count": null,
   "metadata": {},
   "outputs": [],
   "source": []
  }
 ],
 "metadata": {
  "kernelspec": {
   "display_name": "Python 3",
   "language": "python",
   "name": "python3"
  },
  "language_info": {
   "codemirror_mode": {
    "name": "ipython",
    "version": 3
   },
   "file_extension": ".py",
   "mimetype": "text/x-python",
   "name": "python",
   "nbconvert_exporter": "python",
   "pygments_lexer": "ipython3",
   "version": "3.6.5"
  }
 },
 "nbformat": 4,
 "nbformat_minor": 2
}
