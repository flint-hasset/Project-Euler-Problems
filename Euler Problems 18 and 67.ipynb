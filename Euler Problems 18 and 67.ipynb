{
 "cells": [
  {
   "cell_type": "markdown",
   "metadata": {
    "collapsed": true
   },
   "source": [
    "#### 18. By starting at the top of the triangle below and moving to adjacent numbers on the row below, the maximum total from top to bottom is 23.\n",
    "\n",
    "3\n",
    "7 4\n",
    "2 4 6\n",
    "8 5 9 3\n",
    "\n",
    "That is, 3 + 7 + 4 + 9 = 23.\n",
    "\n",
    "Find the maximum total from top to bottom of the triangle below:\n",
    "\n",
    "75 \n",
    "\n",
    "95 64\n",
    "\n",
    "17 47 82\n",
    "\n",
    "18 35 87 10\n",
    "\n",
    "20 04 82 47 65\n",
    "\n",
    "19 01 23 75 03 34\n",
    "\n",
    "88 02 77 73 07 63 67\n",
    "\n",
    "99 65 04 28 06 16 70 92\n",
    "\n",
    "41 41 26 56 83 40 80 70 33\n",
    "\n",
    "41 48 72 33 47 32 37 16 94 29\n",
    "\n",
    "53 71 44 65 25 43 91 52 97 51 14\n",
    "\n",
    "70 11 33 28 77 73 17 78 39 68 17 57\n",
    "\n",
    "91 71 52 38 17 14 91 43 58 50 27 29 48\n",
    "\n",
    "63 66 04 68 89 53 67 30 73 16 69 87 40 31\n",
    "\n",
    "04 62 98 27 23 09 70 98 73 93 38 53 60 04 23\n",
    "\n",
    "\n",
    "NOTE: As there are only 16384 routes, it is possible to solve this problem by trying every route. However, Problem 67, is the same challenge with a triangle containing one-hundred rows; it cannot be solved by brute force, and requires a clever method! ;o)"
   ]
  },
  {
   "cell_type": "code",
   "execution_count": 13,
   "metadata": {},
   "outputs": [],
   "source": [
    "#### List borrowed from sinclam2\n",
    "\n",
    "list_values = [\n",
    "[75],\n",
    "[95,64],\n",
    "[17,47,82],\n",
    "[18,35,87,10],\n",
    "[20,4,82,47,65],\n",
    "[19,1,23,75,3,34],\n",
    "[88,2,77,73,7,63,67],\n",
    "[99,65,4,28,6,16,70,92],\n",
    "[41,41,26,56,83,40,80,70,33],\n",
    "[41,48,72,33,47,32,37,16,94,29],\n",
    "[53,71,44,65,25,43,91,52,97,51,14],\n",
    "[70,11,33,28,77,73,17,78,39,68,17,57],\n",
    "[91,71,52,38,17,14,91,43,58,50,27,29,48],\n",
    "[63,66,4,68,89,53,67,30,73,16,69,87,40,31],\n",
    "[4,62,98,27,23,9,70,98,73,93,38,53,60,4,23]]"
   ]
  },
  {
   "cell_type": "code",
   "execution_count": 79,
   "metadata": {},
   "outputs": [
    {
     "name": "stdout",
     "output_type": "stream",
     "text": [
      "[4, 62, 98, 27, 23, 9, 70, 98, 73, 93, 38, 53, 60, 4, 23]\n",
      "[125, 164, 102, 95, 112, 123, 165, 128, 166, 109, 122, 147, 100, 54]\n",
      "[255, 235, 154, 150, 140, 179, 256, 209, 224, 172, 174, 176, 148]\n",
      "[325, 246, 187, 178, 256, 329, 273, 302, 263, 242, 193, 233]\n",
      "[378, 317, 231, 321, 354, 372, 393, 354, 360, 293, 247]\n",
      "[419, 365, 393, 387, 419, 425, 430, 376, 454, 322]\n",
      "[460, 434, 419, 475, 508, 470, 510, 524, 487]\n",
      "[559, 499, 479, 536, 514, 526, 594, 616]\n",
      "[647, 501, 613, 609, 533, 657, 683]\n",
      "[666, 614, 636, 684, 660, 717]\n",
      "[686, 640, 766, 731, 782]\n",
      "[704, 801, 853, 792]\n",
      "[818, 900, 935]\n",
      "[995, 999]\n"
     ]
    },
    {
     "data": {
      "text/plain": [
       "[1074]"
      ]
     },
     "execution_count": 79,
     "metadata": {},
     "output_type": "execute_result"
    }
   ],
   "source": [
    "temp_list = [4,62,98,27,23,9,70,98,73,93,38,53,60,4,23]\n",
    "droplen = 0\n",
    "\n",
    "for x in range(0,14):\n",
    "    \n",
    "    print(temp_list)\n",
    "    droplen = len(temp_list)\n",
    "    for y in range(0,len(list_values[13-x])):\n",
    "        temp_list.append(max(list_values[13-x][y] + temp_list[y], list_values[13-x][y] + temp_list[y+1]))\n",
    "    temp_list = temp_list[droplen:]                    \n",
    "temp_list"
   ]
  },
  {
   "cell_type": "markdown",
   "metadata": {},
   "source": [
    "### 67. Same problem for 100 row triangle"
   ]
  },
  {
   "cell_type": "code",
   "execution_count": 92,
   "metadata": {},
   "outputs": [],
   "source": [
    "big_list_values = open(r\"\\\\amz-pv-fs02\\userdata$\\hiltss\\Documents\\Projects\\Euler Problems\\p067_triangle.txt\").read().split(\"\\n\")"
   ]
  },
  {
   "cell_type": "code",
   "execution_count": 100,
   "metadata": {},
   "outputs": [],
   "source": [
    "new_list = [x.split() for x in big_list_values]"
   ]
  },
  {
   "cell_type": "code",
   "execution_count": 118,
   "metadata": {},
   "outputs": [
    {
     "data": {
      "text/plain": [
       "[7273]"
      ]
     },
     "execution_count": 118,
     "metadata": {},
     "output_type": "execute_result"
    }
   ],
   "source": [
    "temp_list = listofzeros = [0] * 101\n",
    "droplen = 0\n",
    "\n",
    "for x in range(0,100):\n",
    "    \n",
    "    #print(temp_list)\n",
    "    droplen = len(temp_list)\n",
    "    for y in range(0,len(new_list[99-x])):\n",
    "        temp_list.append(max(int(new_list[99-x][y]) + temp_list[y], int(new_list[99-x][y]) + temp_list[y+1]))\n",
    "    temp_list = temp_list[droplen:]                    \n",
    "temp_list"
   ]
  },
  {
   "cell_type": "code",
   "execution_count": null,
   "metadata": {},
   "outputs": [],
   "source": []
  }
 ],
 "metadata": {
  "kernelspec": {
   "display_name": "Python 3",
   "language": "python",
   "name": "python3"
  },
  "language_info": {
   "codemirror_mode": {
    "name": "ipython",
    "version": 3
   },
   "file_extension": ".py",
   "mimetype": "text/x-python",
   "name": "python",
   "nbconvert_exporter": "python",
   "pygments_lexer": "ipython3",
   "version": "3.6.5"
  }
 },
 "nbformat": 4,
 "nbformat_minor": 1
}
