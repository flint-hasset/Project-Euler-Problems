{
 "cells": [
  {
   "cell_type": "markdown",
   "metadata": {},
   "source": [
    "#### 613. Dave is doing his homework on the balcony and, preparing a presentation about Pythagorean triangles, has just cut out a triangle with side lengths 30cm, 40cm and 50cm from some cardboard, when a gust of wind blows the triangle down into the garden.\n",
    "Another gust blows a small ant straight onto this triangle. The poor ant is completely disoriented and starts to crawl straight ahead in random direction in order to get back into the grass.\n",
    "\n",
    "Assuming that all possible positions of the ant within the triangle and all possible directions of moving on are equiprobable, what is the probability that the ant leaves the triangle along its longest side?\n",
    "Give your answer rounded to 10 digits after the decimal point."
   ]
  },
  {
   "cell_type": "code",
   "execution_count": 32,
   "metadata": {},
   "outputs": [
    {
     "name": "stdout",
     "output_type": "stream",
     "text": [
      "0.2500092843146633\n"
     ]
    }
   ],
   "source": [
    "import math\n",
    "comp = 2*math.pi\n",
    "x = .001\n",
    "y = .001\n",
    "\n",
    "hyp1 = math.sqrt((30-y)**2+x**2)\n",
    "hyp2 = math.sqrt((40-x)**2+y**2)\n",
    "angle = math.asin(x/hyp1)+math.asin(y/hyp2)+math.pi/2\n",
    "pct = angle/comp\n",
    "print(pct)"
   ]
  },
  {
   "cell_type": "code",
   "execution_count": 31,
   "metadata": {},
   "outputs": [
    {
     "name": "stdout",
     "output_type": "stream",
     "text": [
      "39.999900000124995 29.99990000016667\n",
      "1.5707938268169976 1.5707929934281188 1.5707963267948966\n"
     ]
    }
   ],
   "source": [
    "print(hyp1,hyp2)\n",
    "print(math.asin(x/hyp1),math.asin(y/hyp2),math.pi/2)"
   ]
  },
  {
   "cell_type": "code",
   "execution_count": 57,
   "metadata": {},
   "outputs": [],
   "source": [
    "#### Now try this for a ton of points in there. \n",
    "#### Need 10 sig figs; so need 8 decimal points? \n",
    "a = 30\n",
    "b = 40\n",
    "c = 50\n",
    "\n",
    "\n",
    "\n",
    "test = 0\n",
    "total_avg = 0\n",
    "for x_test in range(0,b*1000):\n",
    "    for y_test in range(0,int((b*1000-x_test)*math.tan(math.acos(4/5)))):\n",
    "        x = x_test/1000\n",
    "        y = y_test/1000\n",
    "        hyp1 = math.sqrt((a-y)*2+x**2)\n",
    "        hyp2 = math.sqrt((b-x)**2+y**2)\n",
    "        angle = math.asin(x/hyp1)+math.asin(y/hyp2)+math.pi/2\n",
    "        pct = angle/comp\n",
    "        total_avg = (pct+total_avg*test)/(test+1)\n",
    "        test += 1"
   ]
  },
  {
   "cell_type": "code",
   "execution_count": 58,
   "metadata": {},
   "outputs": [
    {
     "name": "stdout",
     "output_type": "stream",
     "text": [
      "0.45953048431150634 599990000 0.4695551026164352\n"
     ]
    }
   ],
   "source": [
    "print(total_avg,test,pct)"
   ]
  },
  {
   "cell_type": "code",
   "execution_count": 52,
   "metadata": {},
   "outputs": [
    {
     "data": {
      "text/plain": [
       "1.4999999999999996"
      ]
     },
     "execution_count": 52,
     "metadata": {},
     "output_type": "execute_result"
    }
   ],
   "source": [
    "math.degrees(math.acos(4/5))\n",
    "2*math.tan(math.acos(4/5))"
   ]
  },
  {
   "cell_type": "code",
   "execution_count": null,
   "metadata": {},
   "outputs": [],
   "source": [
    "0.4594228201003802 5999000 0.46954172771926145"
   ]
  }
 ],
 "metadata": {
  "kernelspec": {
   "display_name": "Python 3",
   "language": "python",
   "name": "python3"
  },
  "language_info": {
   "codemirror_mode": {
    "name": "ipython",
    "version": 3
   },
   "file_extension": ".py",
   "mimetype": "text/x-python",
   "name": "python",
   "nbconvert_exporter": "python",
   "pygments_lexer": "ipython3",
   "version": "3.6.5"
  }
 },
 "nbformat": 4,
 "nbformat_minor": 2
}
