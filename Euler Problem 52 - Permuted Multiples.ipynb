{
 "cells": [
  {
   "cell_type": "markdown",
   "metadata": {},
   "source": [
    "#### 52. It can be seen that the number, 125874, and its double, 251748, contain exactly the same digits, but in a different order.\n",
    "\n",
    "Find the smallest positive integer, x, such that 2x, 3x, 4x, 5x, and 6x, contain the same digits."
   ]
  },
  {
   "cell_type": "code",
   "execution_count": 43,
   "metadata": {},
   "outputs": [
    {
     "name": "stdout",
     "output_type": "stream",
     "text": [
      "142857\n",
      " "
     ]
    }
   ],
   "source": [
    "%%prun\n",
    "# Generate multiples, split to sets, find intersection.\n",
    "\n",
    "found = 0\n",
    "num = 1\n",
    "while found == 0:\n",
    "    set1 = [int(n) for n in str(num)]\n",
    "    comp = sorted(set1)\n",
    "    passes = 0\n",
    "    for m in range (2,7):\n",
    "        t_str = m*num\n",
    "        t_set = [int(n) for n in str(t_str)]\n",
    "        t_comp = sorted(t_set)\n",
    "        if t_comp == comp:\n",
    "            passes += 1\n",
    "    if passes == 5:\n",
    "        found = 1\n",
    "        print(num)\n",
    "    num += 1\n",
    "    "
   ]
  },
  {
   "cell_type": "code",
   "execution_count": null,
   "metadata": {},
   "outputs": [],
   "source": []
  }
 ],
 "metadata": {
  "kernelspec": {
   "display_name": "Python 3",
   "language": "python",
   "name": "python3"
  },
  "language_info": {
   "codemirror_mode": {
    "name": "ipython",
    "version": 3
   },
   "file_extension": ".py",
   "mimetype": "text/x-python",
   "name": "python",
   "nbconvert_exporter": "python",
   "pygments_lexer": "ipython3",
   "version": "3.6.5"
  }
 },
 "nbformat": 4,
 "nbformat_minor": 2
}
