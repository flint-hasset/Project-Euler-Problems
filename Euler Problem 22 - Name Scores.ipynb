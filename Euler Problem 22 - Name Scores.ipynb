{
 "cells": [
  {
   "cell_type": "markdown",
   "metadata": {},
   "source": [
    "#### 22. Using names.txt (right click and 'Save Link/Target As...'), a 46K text file containing over five-thousand first names, begin by sorting it into alphabetical order. Then working out the alphabetical value for each name, multiply this value by its alphabetical position in the list to obtain a name score.\n",
    "\n",
    "For example, when the list is sorted into alphabetical order, COLIN, which is worth 3 + 15 + 12 + 9 + 14 = 53, is the 938th name in the list. So, COLIN would obtain a score of 938 × 53 = 49714.\n",
    "\n",
    "What is the total of all the name scores in the file?"
   ]
  },
  {
   "cell_type": "code",
   "execution_count": 80,
   "metadata": {},
   "outputs": [],
   "source": [
    "name_list = open(\"Z:\\Documents\\Projects\\Euler Problems\\p022_names.txt\").read().split(',')\n",
    "\n",
    "#name_list = ','.join(name_list).replace('''''','').split(',')\n",
    "#name_list = ','.join(name_list).replace('\"\"','').split(',')\n",
    "j=0\n",
    "for name in name_list:\n",
    "    name_list[j]=name[1:-1]\n",
    "    j+=1\n",
    "\n",
    "name_list = sorted(name_list)\n",
    "\n",
    "\n",
    "#print(name_list,len(name_list))"
   ]
  },
  {
   "cell_type": "code",
   "execution_count": 81,
   "metadata": {},
   "outputs": [
    {
     "name": "stdout",
     "output_type": "stream",
     "text": [
      "871198282\n"
     ]
    }
   ],
   "source": [
    "lets = 'ABCDEFGHIJKLMNOPQRSTUVWXYZ'\n",
    "b_value = lets.find('B')+1\n",
    "\n",
    "#name_list='OTHER','COLIN'\n",
    "total_score = 0\n",
    "for name in name_list:\n",
    "    name_score = 0\n",
    "    temp_score = 0\n",
    "    for char in name:\n",
    "        t_val = lets.find(char)+1\n",
    "        temp_score = temp_score + t_val\n",
    "    name_score = temp_score*(name_list.index(name)+1)\n",
    "    total_score = total_score + name_score\n",
    "print(total_score)"
   ]
  }
 ],
 "metadata": {
  "kernelspec": {
   "display_name": "Python 3",
   "language": "python",
   "name": "python3"
  },
  "language_info": {
   "codemirror_mode": {
    "name": "ipython",
    "version": 3
   },
   "file_extension": ".py",
   "mimetype": "text/x-python",
   "name": "python",
   "nbconvert_exporter": "python",
   "pygments_lexer": "ipython3",
   "version": "3.6.5"
  }
 },
 "nbformat": 4,
 "nbformat_minor": 2
}
