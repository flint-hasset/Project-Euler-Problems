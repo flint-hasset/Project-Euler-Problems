{
 "cells": [
  {
   "cell_type": "markdown",
   "metadata": {},
   "source": [
    "#### 46. It was proposed by Christian Goldbach that every odd composite number can be written as the sum of a prime and twice a square.\n",
    "\n",
    "9 = 7 + 2×12\n",
    "15 = 7 + 2×22\n",
    "21 = 3 + 2×32\n",
    "25 = 7 + 2×32\n",
    "27 = 19 + 2×22\n",
    "33 = 31 + 2×12\n",
    "\n",
    "It turns out that the conjecture was false.\n",
    "\n",
    "What is the smallest odd composite that cannot be written as the sum of a prime and twice a square?"
   ]
  },
  {
   "cell_type": "code",
   "execution_count": 3,
   "metadata": {},
   "outputs": [],
   "source": [
    "# Initial method idea\n",
    "    # Create 2x squares \n",
    "    # Create primes\n",
    "    # add em up\n",
    "    # Find numbers not in list. \n",
    "# However, this will generate lots of things. Consider finding a way to limit the calculation space"
   ]
  },
  {
   "cell_type": "code",
   "execution_count": 2,
   "metadata": {},
   "outputs": [],
   "source": [
    "# However, this will generate lots of things. Consider finding a way to limit the calculation space"
   ]
  },
  {
   "cell_type": "code",
   "execution_count": 88,
   "metadata": {},
   "outputs": [
    {
     "name": "stdout",
     "output_type": "stream",
     "text": [
      "5777  doesn't work!\n",
      "5993  doesn't work!\n"
     ]
    }
   ],
   "source": [
    "# Begin check prime function\n",
    "import math \n",
    "def IsPrime( n ):\n",
    "    if n == 2:\n",
    "        return 1\n",
    "    elif n % 2 == 0:\n",
    "        return 0\n",
    "\n",
    "    i = 3\n",
    "    range = int( math.sqrt(n) ) + 1\n",
    "    while( i < range ):\n",
    "        if( n % i == 0):\n",
    "            return 0\n",
    "        i += 1\n",
    "    return 1\n",
    "# End check prime function\n",
    "\n",
    "\n",
    "#Generate squares_list\n",
    "#squares_list=[]\n",
    "#for n in range(1,1000):\n",
    "#    squares_list.extend([n*n*2])\n",
    "#End Squares list\n",
    "\n",
    "#Loop through numbers; if IsPrime, add to prime_list. If Is not prime, check for sums of lower prime and squares_list\n",
    "prime_list=[2]\n",
    "goldbach_list=[]\n",
    "for test in range(3,10000,2):\n",
    "    if IsPrime(test) == 1:\n",
    "        prime_list.extend([test])\n",
    "    else: \n",
    "        test_sum = 0\n",
    "        p = 0\n",
    "        for p in range(0,len(prime_list)):\n",
    "            for sq in range (1,int(math.sqrt(test))):\n",
    "                test_sum = sq*sq*2 + prime_list[p]\n",
    "                if test_sum==test:\n",
    "                    #print(test,sq,prime_list[p])\n",
    "                    break\n",
    "            if test_sum==test:\n",
    "                break\n",
    "                \n",
    "                    \n",
    "        else: \n",
    "            print(test, \" doesn't work!\")\n",
    "    \n",
    "\n",
    "                    \n",
    "                \n",
    "        "
   ]
  },
  {
   "cell_type": "code",
   "execution_count": null,
   "metadata": {},
   "outputs": [],
   "source": []
  }
 ],
 "metadata": {
  "kernelspec": {
   "display_name": "Python 3",
   "language": "python",
   "name": "python3"
  },
  "language_info": {
   "codemirror_mode": {
    "name": "ipython",
    "version": 3
   },
   "file_extension": ".py",
   "mimetype": "text/x-python",
   "name": "python",
   "nbconvert_exporter": "python",
   "pygments_lexer": "ipython3",
   "version": "3.6.5"
  }
 },
 "nbformat": 4,
 "nbformat_minor": 2
}
