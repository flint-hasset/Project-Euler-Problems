{
 "cells": [
  {
   "cell_type": "markdown",
   "metadata": {},
   "source": [
    "#### 65. The square root of 2 can be written as an infinite continued fraction.\n",
    "\n",
    "√2 = 1 +\t\n",
    "1\n",
    " \t2 +\t\n",
    "1\n",
    " \t \t2 +\t\n",
    "1\n",
    " \t \t \t2 +\t\n",
    "1\n",
    " \t \t \t \t2 + ...\n",
    "The infinite continued fraction can be written, √2 = [1;(2)], (2) indicates that 2 repeats ad infinitum. In a similar way, √23 = [4;(1,3,1,8)].\n",
    "\n",
    "It turns out that the sequence of partial values of continued fractions for square roots provide the best rational approximations. Let us consider the convergents for √2.\n",
    "\n",
    "1 +\t\n",
    "1\n",
    "= 3/2\n",
    " \t\n",
    "2\n",
    " \n",
    "1 +\t\n",
    "1\n",
    "= 7/5\n",
    " \t2 +\t\n",
    "1\n",
    " \t \t\n",
    "2\n",
    " \n",
    "1 +\t\n",
    "1\n",
    "= 17/12\n",
    " \t2 +\t\n",
    "1\n",
    " \n",
    " \t \t2 +\t\n",
    "1\n",
    " \n",
    " \t \t \t\n",
    "2\n",
    " \n",
    "1 +\t\n",
    "1\n",
    "= 41/29\n",
    " \t2 +\t\n",
    "1\n",
    " \t \t2 +\t\n",
    "1\n",
    " \n",
    " \t \t \t2 +\t\n",
    "1\n",
    " \n",
    " \t \t \t \t\n",
    "2\n",
    " \n",
    "Hence the sequence of the first ten convergents for √2 are:\n",
    "\n",
    "1, 3/2, 7/5, 17/12, 41/29, 99/70, 239/169, 577/408, 1393/985, 3363/2378, ...\n",
    "What is most surprising is that the important mathematical constant,\n",
    "e = [2; 1,2,1, 1,4,1, 1,6,1 , ... , 1,2k,1, ...].\n",
    "\n",
    "The first ten terms in the sequence of convergents for e are:\n",
    "\n",
    "2, 3, 8/3, 11/4, 19/7, 87/32, 106/39, 193/71, 1264/465, 1457/536, ...\n",
    "The sum of digits in the numerator of the 10th convergent is 1+4+5+7=17.\n",
    "\n",
    "Find the sum of digits in the numerator of the 100th convergent of the continued fraction for e."
   ]
  },
  {
   "cell_type": "code",
   "execution_count": 26,
   "metadata": {},
   "outputs": [],
   "source": [
    "### Generate e series. \n",
    "\n",
    "e_list=[]\n",
    "mult = 0\n",
    "for x in range (0,10):\n",
    "    if x%3 == 1:\n",
    "        mult +=2\n",
    "        e_list.append(mult)\n",
    "    else: e_list.append(1)\n",
    "rev_list = e_list[::-1]"
   ]
  },
  {
   "cell_type": "code",
   "execution_count": 27,
   "metadata": {},
   "outputs": [],
   "source": [
    "run_sum = 3/2\n",
    "\n",
    "\n",
    "for x in range (1,10):\n",
    "    plus = rev_list[x]\n",
    "    run_sum = plus + 1/run_sum\n",
    "\n"
   ]
  },
  {
   "cell_type": "code",
   "execution_count": 29,
   "metadata": {},
   "outputs": [
    {
     "name": "stdout",
     "output_type": "stream",
     "text": [
      "[1, 2, 1, 1, 4, 1, 1, 6, 1, 1] [1, 1, 6, 1, 1, 4, 1, 1, 2, 1]\n"
     ]
    }
   ],
   "source": [
    "print(e_list, rev_list)"
   ]
  },
  {
   "cell_type": "code",
   "execution_count": 24,
   "metadata": {},
   "outputs": [
    {
     "data": {
      "text/plain": [
       "2.71828"
      ]
     },
     "execution_count": 24,
     "metadata": {},
     "output_type": "execute_result"
    }
   ],
   "source": [
    "2.71828"
   ]
  },
  {
   "cell_type": "code",
   "execution_count": 31,
   "metadata": {},
   "outputs": [
    {
     "data": {
      "text/plain": [
       "6.6"
      ]
     },
     "execution_count": 31,
     "metadata": {},
     "output_type": "execute_result"
    }
   ],
   "source": [
    "33/5"
   ]
  },
  {
   "cell_type": "code",
   "execution_count": null,
   "metadata": {},
   "outputs": [],
   "source": []
  }
 ],
 "metadata": {
  "kernelspec": {
   "display_name": "Python 3",
   "language": "python",
   "name": "python3"
  },
  "language_info": {
   "codemirror_mode": {
    "name": "ipython",
    "version": 3
   },
   "file_extension": ".py",
   "mimetype": "text/x-python",
   "name": "python",
   "nbconvert_exporter": "python",
   "pygments_lexer": "ipython3",
   "version": "3.6.5"
  }
 },
 "nbformat": 4,
 "nbformat_minor": 2
}
