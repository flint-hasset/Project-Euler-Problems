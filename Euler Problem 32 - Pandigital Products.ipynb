{
 "cells": [
  {
   "cell_type": "markdown",
   "metadata": {},
   "source": [
    "#### 32. We shall say that an n-digit number is pandigital if it makes use of all the digits 1 to n exactly once; for example, the 5-digit number, 15234, is 1 through 5 pandigital.\n",
    "\n",
    "The product 7254 is unusual, as the identity, 39 × 186 = 7254, containing multiplicand, multiplier, and product is 1 through 9 pandigital.\n",
    "\n",
    "Find the sum of all products whose multiplicand/multiplier/product identity can be written as a 1 through 9 pandigital.\n",
    "\n",
    "HINT: Some products can be obtained in more than one way so be sure to only include it once in your sum."
   ]
  },
  {
   "cell_type": "code",
   "execution_count": 32,
   "metadata": {},
   "outputs": [
    {
     "name": "stdout",
     "output_type": "stream",
     "text": [
      "12 483 5796\n",
      "18 297 5346\n",
      "27 198 5346\n",
      "28 157 4396\n",
      "39 186 7254\n",
      "42 138 5796\n",
      "48 159 7632\n",
      "4 1738 6952\n",
      "4 1963 7852\n",
      "45228\n"
     ]
    }
   ],
   "source": [
    "# 12*345 = 4140\n",
    "# Generate 9-digit pandigitals using itertools\n",
    "# split into dd * ddd = dddd segments and check is product is correct. \n",
    "\n",
    "import itertools as it\n",
    "\n",
    "digits = range(1,10)\n",
    "check_list = list(it.permutations(digits))\n",
    "\n",
    "pans_list =[]\n",
    "for entry in check_list: \n",
    "    prod1 = int(str(entry[0])+str(entry[1]))\n",
    "    prod2 = int(str(entry[2])+str(entry[3])+str(entry[4]))\n",
    "    res = int(str(entry[5])+str(entry[6])+str(entry[7])+str(entry[8]))\n",
    "    if prod1*prod2 == res:\n",
    "        pans_list.extend([res])\n",
    "        print(prod1,prod2,res)\n",
    "\n",
    "\n",
    "for entry in check_list: \n",
    "    prod1 = int(str(entry[0]))\n",
    "    prod2 = int(str(entry[1])+str(entry[2])+str(entry[3])+str(entry[4]))\n",
    "    res = int(str(entry[5])+str(entry[6])+str(entry[7])+str(entry[8]))\n",
    "    if prod1*prod2 == res:\n",
    "        pans_list.extend([res])\n",
    "        print(prod1,prod2,res)\n",
    "\n",
    "print(sum(set(pans_list)))"
   ]
  },
  {
   "cell_type": "code",
   "execution_count": null,
   "metadata": {},
   "outputs": [],
   "source": []
  }
 ],
 "metadata": {
  "kernelspec": {
   "display_name": "Python 3",
   "language": "python",
   "name": "python3"
  },
  "language_info": {
   "codemirror_mode": {
    "name": "ipython",
    "version": 3
   },
   "file_extension": ".py",
   "mimetype": "text/x-python",
   "name": "python",
   "nbconvert_exporter": "python",
   "pygments_lexer": "ipython3",
   "version": "3.6.5"
  }
 },
 "nbformat": 4,
 "nbformat_minor": 2
}
