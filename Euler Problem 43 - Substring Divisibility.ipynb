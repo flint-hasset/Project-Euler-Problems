{
 "cells": [
  {
   "cell_type": "markdown",
   "metadata": {},
   "source": [
    "#### 43. The number, 1406357289, is a 0 to 9 pandigital number because it is made up of each of the digits 0 to 9 in some order, but it also has a rather interesting sub-string divisibility property.\n",
    "\n",
    "Let d1 be the 1st digit, d2 be the 2nd digit, and so on. In this way, we note the following:\n",
    "\n",
    "d2d3d4=406 is divisible by 2\n",
    "d3d4d5=063 is divisible by 3\n",
    "d4d5d6=635 is divisible by 5\n",
    "d5d6d7=357 is divisible by 7\n",
    "d6d7d8=572 is divisible by 11\n",
    "d7d8d9=728 is divisible by 13\n",
    "d8d9d10=289 is divisible by 17\n",
    "Find the sum of all 0 to 9 pandigital numbers with this property."
   ]
  },
  {
   "cell_type": "code",
   "execution_count": 103,
   "metadata": {},
   "outputs": [
    {
     "name": "stdout",
     "output_type": "stream",
     "text": [
      "1430952867\n",
      "1460357289\n",
      "1406357289\n",
      "4130952867\n",
      "4160357289\n",
      "4106357289\n",
      "6.511281699999927\n"
     ]
    }
   ],
   "source": [
    "import timeit\n",
    "start = timeit.default_timer()\n",
    "# Use itertools to create pandigital permutations\n",
    "# loop through 3-digit strings to check divisibility\n",
    "    # Break loop if any fail\n",
    "import itertools as it\n",
    "\n",
    "digits = 1234567890\n",
    "\n",
    "# Create permutations, exclude starting with 0\n",
    "check_list = [''.join(p) for p in it.permutations(str(digits))] # if p[0] != 0]\n",
    "\n",
    "primes = [2,3,5,7,11,13,17]\n",
    "for number in check_list:\n",
    "    fails = 0\n",
    "    p = 1\n",
    "    while fails == 0 and p <=7:\n",
    "        temp_string = int(number[p:p+3])\n",
    "        if temp_string %primes[p-1] != 0:\n",
    "            fails = fails + 1\n",
    "        p = p + 1\n",
    "    if fails == 0:\n",
    "        print(number)\n",
    "        \n",
    "stop = timeit.default_timer()\n",
    "print(stop-start)"
   ]
  },
  {
   "cell_type": "code",
   "execution_count": 106,
   "metadata": {},
   "outputs": [
    {
     "data": {
      "text/plain": [
       "16695334890"
      ]
     },
     "execution_count": 106,
     "metadata": {},
     "output_type": "execute_result"
    }
   ],
   "source": [
    "1430952867+1460357289+1406357289+4130952867+4160357289+4106357289"
   ]
  },
  {
   "cell_type": "code",
   "execution_count": null,
   "metadata": {},
   "outputs": [],
   "source": []
  }
 ],
 "metadata": {
  "kernelspec": {
   "display_name": "Python 3",
   "language": "python",
   "name": "python3"
  },
  "language_info": {
   "codemirror_mode": {
    "name": "ipython",
    "version": 3
   },
   "file_extension": ".py",
   "mimetype": "text/x-python",
   "name": "python",
   "nbconvert_exporter": "python",
   "pygments_lexer": "ipython3",
   "version": "3.6.5"
  }
 },
 "nbformat": 4,
 "nbformat_minor": 2
}
