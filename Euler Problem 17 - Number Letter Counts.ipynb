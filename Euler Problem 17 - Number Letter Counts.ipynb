{
 "cells": [
  {
   "cell_type": "markdown",
   "metadata": {},
   "source": [
    "#### 17. If the numbers 1 to 5 are written out in words: one, two, three, four, five, then there are 3 + 3 + 5 + 4 + 4 = 19 letters used in total.\n",
    "\n",
    "If all the numbers from 1 to 1000 (one thousand) inclusive were written out in words, how many letters would be used?\n",
    "\n",
    "\n",
    "NOTE: Do not count spaces or hyphens. For example, 342 (three hundred and forty-two) contains 23 letters and 115 (one hundred and fifteen) contains 20 letters. The use of \"and\" when writing out numbers is in compliance with British usage."
   ]
  },
  {
   "cell_type": "code",
   "execution_count": 52,
   "metadata": {},
   "outputs": [
    {
     "name": "stdout",
     "output_type": "stream",
     "text": [
      "21124\n"
     ]
    }
   ],
   "source": [
    "## Borrowed code\n",
    "def numToWords(num,join=True):\n",
    "    '''words = {} convert an integer number into words'''\n",
    "    units = ['','one','two','three','four','five','six','seven','eight','nine']\n",
    "    teens = ['','eleven','twelve','thirteen','fourteen','fifteen','sixteen', \\\n",
    "             'seventeen','eighteen','nineteen']\n",
    "    tens = ['','ten','twenty','thirty','forty','fifty','sixty','seventy', \\\n",
    "            'eighty','ninety']\n",
    "    thousands = ['','thousand','million','billion','trillion','quadrillion', \\\n",
    "                 'quintillion','sextillion','septillion','octillion', \\\n",
    "                 'nonillion','decillion','undecillion','duodecillion', \\\n",
    "                 'tredecillion','quattuordecillion','sexdecillion', \\\n",
    "                 'septendecillion','octodecillion','novemdecillion', \\\n",
    "                 'vigintillion']\n",
    "    words = []\n",
    "    if num==0: words.append('zero')\n",
    "    else:\n",
    "        numStr = '%d'%num\n",
    "        numStrLen = len(numStr)\n",
    "        groups = int((numStrLen+2)/3)\n",
    "        numStr = numStr.zfill(groups*3)\n",
    "        for i in range(0,groups*3,3):\n",
    "            h,t,u = int(numStr[i]),int(numStr[i+1]),int(numStr[i+2])\n",
    "            g = int(groups-(i/3+1))\n",
    "            if h>=1:\n",
    "                if t ==0 and u == 0:\n",
    "                    words.append(units[h])\n",
    "                    words.append('hundred')\n",
    "                else:\n",
    "                    words.append(units[h])\n",
    "                    words.append('hundredand')\n",
    "            if t>1:\n",
    "                words.append(tens[t])\n",
    "                if u>=1: words.append(units[u])\n",
    "            elif t==1:\n",
    "                if u>=1: words.append(teens[u])\n",
    "                else: words.append(tens[t])\n",
    "            else:\n",
    "                if u>=1: words.append(units[u])\n",
    "            if (g>=1) and h==0: words.append(thousands[g])\n",
    "            elif (g>=1)> 0: words.append(thousands[g]+'and')\n",
    "    if join: return len(''.join(words))\n",
    "    return len(words)\n",
    "\n",
    "word_sum = 0\n",
    "for x in range(1,1001):\n",
    "    word_sum += numToWords(x)\n",
    "    \n",
    "print(word_sum)"
   ]
  },
  {
   "cell_type": "code",
   "execution_count": 48,
   "metadata": {},
   "outputs": [
    {
     "data": {
      "text/plain": [
       "'onethousand'"
      ]
     },
     "execution_count": 48,
     "metadata": {},
     "output_type": "execute_result"
    }
   ],
   "source": [
    "numToWords(1000)\n"
   ]
  },
  {
   "cell_type": "code",
   "execution_count": null,
   "metadata": {},
   "outputs": [],
   "source": []
  }
 ],
 "metadata": {
  "kernelspec": {
   "display_name": "Python 3",
   "language": "python",
   "name": "python3"
  },
  "language_info": {
   "codemirror_mode": {
    "name": "ipython",
    "version": 3
   },
   "file_extension": ".py",
   "mimetype": "text/x-python",
   "name": "python",
   "nbconvert_exporter": "python",
   "pygments_lexer": "ipython3",
   "version": "3.6.5"
  }
 },
 "nbformat": 4,
 "nbformat_minor": 2
}
