{
 "cells": [
  {
   "cell_type": "markdown",
   "metadata": {},
   "source": [
    "#### By replacing the 1st digit of the 2-digit number *3, it turns out that six of the nine possible values: 13, 23, 43, 53, 73, and 83, are all prime.\n",
    "\n",
    "By replacing the 3rd and 4th digits of 56**3 with the same digit, this 5-digit number is the first example having seven primes among the ten generated numbers, yielding the family: 56003, 56113, 56333, 56443, 56663, 56773, and 56993. Consequently 56003, being the first member of this family, is the smallest prime with this property.\n",
    "\n",
    "Find the smallest prime which, by replacing part of the number (not necessarily adjacent digits) with the same digit, is part of an eight prime value family."
   ]
  },
  {
   "cell_type": "code",
   "execution_count": null,
   "metadata": {
    "collapsed": true
   },
   "outputs": [],
   "source": [
    "# Minimum search value is 56003. \n",
    "# Question reading: \"Part of the number\"\n",
    "    # Could be as many as len(p)-1 digits, few as one. Do not need to be adjacent\n",
    "        # Replacing with SAME digits / all digits. \n",
    "            # 10 combinations to check for each family FOR EACH setup. \n",
    "                # For n-digit number, \n",
    "                    #n-1 arrangements for 1*  \n",
    "                    #(n-1)C(2) for 2*, etc. \n",
    "                    #Minus 1 is because * cannot be in last digit. \n",
    "    # Will loop through 2s, then 3s, etc. Break if it finds one somewhere. \n",
    "# Start search by capping at 6 digits. May require more later. "
   ]
  },
  {
   "cell_type": "code",
   "execution_count": 1,
   "metadata": {
    "collapsed": true
   },
   "outputs": [],
   "source": [
    "import math\n",
    "# Define prime\n",
    "def IsPrime( n ):\n",
    "    if n == 2:\n",
    "        return 1\n",
    "    elif n % 2 == 0:\n",
    "        return 0\n",
    "\n",
    "    i = 3\n",
    "    range = int( math.sqrt(n) ) + 1\n",
    "    while( i < range ):\n",
    "        if( n % i == 0):\n",
    "            return 0\n",
    "        i += 1\n",
    "    return 1\n",
    "# End define prime\n",
    "\n",
    "for p in range(56002,100000):\n",
    "    if IsPrime(p) == 1:\n",
    "        continue \n",
    "        string = str(p)\n",
    "        for x in range(0,len(string)-1):\n",
    "\n",
    "        #TRICKY. \n",
    "        # THis code should iterate through the combinations of positions (like *ii*i, **iii, *i*ii...) and test primes. \n",
    "        #To create this combination list, must correctly install the code in the next box.\n",
    "            # Split string into digits\n",
    "            # replace string[x] and string[]\n",
    "    \n",
    "    \n",
    "    \n",
    "    while T < 51000:\n",
    "    if IsPrime(T) == 1:\n",
    "        prime_list.extend([T])\n",
    "    T = T+2"
   ]
  },
  {
   "cell_type": "code",
   "execution_count": 76,
   "metadata": {},
   "outputs": [
    {
     "name": "stdout",
     "output_type": "stream",
     "text": [
      "1\n",
      "2\n",
      "3\n",
      "4\n",
      "5\n",
      "1\n"
     ]
    },
    {
     "ename": "IndexError",
     "evalue": "string index out of range",
     "output_type": "error",
     "traceback": [
      "\u001b[1;31m---------------------------------------------------------------------------\u001b[0m",
      "\u001b[1;31mIndexError\u001b[0m                                Traceback (most recent call last)",
      "\u001b[1;32m<ipython-input-76-0324065333c6>\u001b[0m in \u001b[0;36m<module>\u001b[1;34m()\u001b[0m\n\u001b[0;32m      7\u001b[0m     \u001b[1;32mfor\u001b[0m \u001b[0mx\u001b[0m \u001b[1;32min\u001b[0m \u001b[0mreplacements\u001b[0m\u001b[1;33m:\u001b[0m\u001b[1;33m\u001b[0m\u001b[0m\n\u001b[0;32m      8\u001b[0m         \u001b[1;32mfor\u001b[0m \u001b[0my\u001b[0m \u001b[1;32min\u001b[0m \u001b[0mrange\u001b[0m\u001b[1;33m(\u001b[0m\u001b[1;36m0\u001b[0m\u001b[1;33m,\u001b[0m\u001b[0mlen\u001b[0m\u001b[1;33m(\u001b[0m\u001b[0mx\u001b[0m\u001b[1;33m)\u001b[0m\u001b[1;33m)\u001b[0m\u001b[1;33m:\u001b[0m\u001b[1;33m\u001b[0m\u001b[0m\n\u001b[1;32m----> 9\u001b[1;33m             \u001b[0mprint\u001b[0m\u001b[1;33m(\u001b[0m\u001b[0mx\u001b[0m\u001b[1;33m[\u001b[0m\u001b[1;36m0\u001b[0m\u001b[1;33m]\u001b[0m\u001b[1;33m[\u001b[0m\u001b[0my\u001b[0m\u001b[1;33m]\u001b[0m\u001b[1;33m)\u001b[0m\u001b[1;33m\u001b[0m\u001b[0m\n\u001b[0m\u001b[0;32m     10\u001b[0m \u001b[1;33m\u001b[0m\u001b[0m\n\u001b[0;32m     11\u001b[0m \u001b[0mstring\u001b[0m\u001b[1;33m[\u001b[0m\u001b[1;36m1\u001b[0m\u001b[1;33m]\u001b[0m \u001b[1;33m=\u001b[0m \u001b[1;34m'2'\u001b[0m\u001b[1;33m\u001b[0m\u001b[0m\n",
      "\u001b[1;31mIndexError\u001b[0m: string index out of range"
     ]
    }
   ],
   "source": [
    "import itertools as it\n",
    "string = '50127'\n",
    "#for n in range(1,len(string)-1):\n",
    "for n in range (1,5):\n",
    "    replacements = list(it.combinations('12345', n))\n",
    "    x_len = len(replacements)\n",
    "    for x in replacements:\n",
    "        for y in range(0,len(x)):\n",
    "            print(x[0][y])\n",
    "            \n",
    "string[1] = '2'\n",
    "print(string)"
   ]
  },
  {
   "cell_type": "code",
   "execution_count": 66,
   "metadata": {},
   "outputs": [
    {
     "data": {
      "text/plain": [
       "'2'"
      ]
     },
     "execution_count": 66,
     "metadata": {},
     "output_type": "execute_result"
    }
   ],
   "source": [
    "import itertools as it\n",
    "string = '50127'\n",
    "results = [x for x in itertools.combinations(string, 4) ]\n",
    "results[0][3]"
   ]
  },
  {
   "cell_type": "code",
   "execution_count": null,
   "metadata": {
    "collapsed": true
   },
   "outputs": [],
   "source": []
  }
 ],
 "metadata": {
  "kernelspec": {
   "display_name": "Python 3",
   "language": "python",
   "name": "python3"
  },
  "language_info": {
   "codemirror_mode": {
    "name": "ipython",
    "version": 3
   },
   "file_extension": ".py",
   "mimetype": "text/x-python",
   "name": "python",
   "nbconvert_exporter": "python",
   "pygments_lexer": "ipython3",
   "version": "3.6.1"
  }
 },
 "nbformat": 4,
 "nbformat_minor": 2
}
