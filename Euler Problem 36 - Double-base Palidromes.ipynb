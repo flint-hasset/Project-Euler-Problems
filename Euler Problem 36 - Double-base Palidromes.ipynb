{
 "cells": [
  {
   "cell_type": "markdown",
   "metadata": {},
   "source": [
    "#### 36. The decimal number, 585 = 10010010012 (binary), is palindromic in both bases.\n",
    "\n",
    "Find the sum of all numbers, less than one million, which are palindromic in base 10 and base 2.\n",
    "\n",
    "(Please note that the palindromic number, in either base, may not include leading zeros.)"
   ]
  },
  {
   "cell_type": "code",
   "execution_count": 29,
   "metadata": {},
   "outputs": [
    {
     "name": "stdout",
     "output_type": "stream",
     "text": [
      "872187\n"
     ]
    }
   ],
   "source": [
    "def check_palindrome(n):\n",
    "    str_n=str(n)\n",
    "    size=len(str_n)\n",
    "    not_p = 0\n",
    "    if size%2 ==0:\n",
    "        for i in range(0,int(size/2)):\n",
    "            if str_n[size-1-i] != str_n[i]:\n",
    "                not_p = 1 + not_p\n",
    "    else:\n",
    "        for i in range(0,int((size-1)/2)):\n",
    "            if str_n[size-1-i] != str_n[i]:\n",
    "                not_p = 1 + not_p\n",
    "    if not_p == 0:\n",
    "        return 1\n",
    "    else: \n",
    "        return 0\n",
    "\n",
    "def both_pal(n):\n",
    "    binary_str = str(bin(n))[2:]\n",
    "    if check_palindrome(n) and check_palindrome(binary_str):\n",
    "        return 1\n",
    "\n",
    "    \n",
    "sum_palin = 0\n",
    "for n in range (0,1000000):\n",
    "    if both_pal(n) == 1:\n",
    "        sum_palin = sum_palin+n\n",
    "        \n",
    "print(sum_palin)"
   ]
  },
  {
   "cell_type": "code",
   "execution_count": null,
   "metadata": {},
   "outputs": [],
   "source": []
  }
 ],
 "metadata": {
  "kernelspec": {
   "display_name": "Python 3",
   "language": "python",
   "name": "python3"
  },
  "language_info": {
   "codemirror_mode": {
    "name": "ipython",
    "version": 3
   },
   "file_extension": ".py",
   "mimetype": "text/x-python",
   "name": "python",
   "nbconvert_exporter": "python",
   "pygments_lexer": "ipython3",
   "version": "3.6.5"
  }
 },
 "nbformat": 4,
 "nbformat_minor": 2
}
